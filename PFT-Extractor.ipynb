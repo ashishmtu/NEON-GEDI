{
 "cells": [
  {
   "cell_type": "code",
   "execution_count": null,
   "id": "2cbe8035-a363-4a0e-b62a-2016b6ca0947",
   "metadata": {},
   "outputs": [],
   "source": [
    "import xarray as xr\n",
    "import pandas as pd\n",
    "import numpy as np\n",
    "\n",
    "# Load your bounding box data from a CSV file\n",
    "# This CSV file contains geographic coordinates of bounding boxes (MinLon, MinLat, MaxLon, MaxLat)\n",
    "bbox_file_path = r\"bounding_boxes_tower.csv\"\n",
    "bbox_data = pd.read_csv(bbox_file_path)\n",
    "\n",
    "# Load the xarray dataset from which we want to extract the variable data\n",
    "# This dataset should contain variables like 'WATER', 'BARE', 'BUILT', etc. at various spatial points (lon, lat)\n",
    "# Replace 'your_dataset_file.nc' with the actual file path of your dataset\n",
    "ds = xr.open_dataset(r\"your_dataset_file.nc\")\n",
    "\n",
    "# List of variables to extract from the xarray dataset\n",
    "variables = ['WATER', 'BARE', 'BUILT', 'GRASS-MAN', 'GRASS-NAT', 'SHRUBS-BD', 'TREES-BD', \n",
    "             'SHRUBS-BE', 'TREES-BE', 'LAND', 'SHRUBS-ND', 'TREES-ND', 'SHRUBS-NE', 'TREES-NE', 'SNOWICE']\n",
    "\n",
    "# Initialize new columns in the bbox_data DataFrame for each variable, setting initial values to NaN\n",
    "for variable in variables:\n",
    "    bbox_data[variable] = np.nan  # Create a new column for each variable with default value NaN\n",
    "\n",
    "# Function to calculate the center point of a bounding box\n",
    "# Takes minimum and maximum longitude and latitude and returns the center point\n",
    "def get_center_point(min_lon, min_lat, max_lon, max_lat):\n",
    "    center_lon = (min_lon + max_lon) / 2  # Calculate center longitude\n",
    "    center_lat = (min_lat + max_lat) / 2  # Calculate center latitude\n",
    "    return center_lon, center_lat\n",
    "\n",
    "# Iterate over each row (bounding box) in the bbox_data DataFrame\n",
    "for index, row in bbox_data.iterrows():\n",
    "    # Calculate the center point (latitude, longitude) of the bounding box\n",
    "    center_lon, center_lat = get_center_point(row['MinLon'], row['MinLat'], row['MaxLon'], row['MaxLat'])\n",
    "    \n",
    "    # Select the nearest data point from the xarray dataset for the given center point coordinates\n",
    "    # Using the 'nearest' method to find the closest point in the dataset based on lat/lon\n",
    "    data_point = ds.sel(lon=center_lon, lat=center_lat, method='nearest')\n",
    "    \n",
    "    # Update the DataFrame with values for each variable at the nearest point\n",
    "    for variable in variables:\n",
    "        # Extract the value for the variable from the xarray dataset at the nearest point\n",
    "        # .item() ensures the result is a scalar (single value), and we check if the variable has data at that point\n",
    "        bbox_data.at[index, variable] = data_point[variable].values.item() if data_point[variable].values.size else np.nan\n",
    "\n",
    "# Save the updated DataFrame (with extracted variable data) to a new CSV file\n",
    "output_file_path = r'A:\\Research\\2_NEON\\11_PFT\\pft_tower.csv'\n",
    "bbox_data.to_csv(output_file_path, index=False)  # Save the DataFrame without row indices\n",
    "\n",
    "# Print a message indicating that the data has been successfully saved\n",
    "print(f\"Updated data saved to {output_file_path}\")\n"
   ]
  },
  {
   "cell_type": "code",
   "execution_count": null,
   "id": "3c051e95-92e0-4ed7-a3c6-a51d26a05256",
   "metadata": {},
   "outputs": [],
   "source": []
  },
  {
   "cell_type": "code",
   "execution_count": null,
   "id": "a00a1687-204a-4502-8c23-6f830d54897a",
   "metadata": {},
   "outputs": [],
   "source": []
  }
 ],
 "metadata": {
  "kernelspec": {
   "display_name": "Python 3 (ipykernel)",
   "language": "python",
   "name": "python3"
  },
  "language_info": {
   "codemirror_mode": {
    "name": "ipython",
    "version": 3
   },
   "file_extension": ".py",
   "mimetype": "text/x-python",
   "name": "python",
   "nbconvert_exporter": "python",
   "pygments_lexer": "ipython3",
   "version": "3.11.5"
  }
 },
 "nbformat": 4,
 "nbformat_minor": 5
}
