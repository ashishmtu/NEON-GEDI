{
 "cells": [
  {
   "cell_type": "code",
   "execution_count": 11,
   "id": "f630192c-5ed6-412a-bfeb-510c86a347fa",
   "metadata": {},
   "outputs": [],
   "source": [
    "import os\n",
    "import re\n",
    "import laspy\n",
    "import rasterio\n",
    "import numpy as np\n",
    "\n",
    "def normalize_las(las_filename, dtm_filename, output_filename):\n",
    "    # Load LAS file\n",
    "    las_file = laspy.read(las_filename)\n",
    "\n",
    "    # Load DTM raster file\n",
    "    with rasterio.open(dtm_filename) as dtm:\n",
    "        # Sample DTM values at LAS points\n",
    "        dtm_elevations = np.array(list(rasterio.sample.sample_gen(dtm, zip(las_file.x, las_file.y))))\n",
    "\n",
    "    # Check if the number of LAS points matches the number of sampled DTM values\n",
    "    if len(las_file.z) != len(dtm_elevations):\n",
    "        raise ValueError(\"Number of LAS points does not match the number of sampled DTM values.\")\n",
    "\n",
    "    # Normalize LAS points based on DTM elevation\n",
    "    normalized_elevations = np.array(las_file.z) - dtm_elevations.flatten()\n",
    "\n",
    "    # Update LAS file with normalized elevations\n",
    "    las_file.z = normalized_elevations.tolist()  # Convert back to list for laspy compatibility\n",
    "\n",
    "    # Save the normalized LAS file\n",
    "    las_file.write(output_filename)\n",
    "\n",
    "def process_folders(input_folder, output_folder):\n",
    "    # Traverse the input folder and its subfolders\n",
    "    for root, dirs, files in os.walk(input_folder):\n",
    "        # Filter for LAS and TIFF files\n",
    "        las_files = [f for f in files if f.lower().endswith(\".las\")]\n",
    "        tiff_files = [f for f in files if f.lower().endswith(\".tif\")]\n",
    "\n",
    "        # Check if there is exactly one LAS file and one TIFF file\n",
    "        if len(las_files) == 1 and len(tiff_files) == 1:\n",
    "            # Construct the file paths for LAS and DTM files\n",
    "            las_filename = os.path.join(root, las_files[0])\n",
    "            dtm_filename = os.path.join(root, tiff_files[0])\n",
    "\n",
    "            # Construct the output file path\n",
    "            relative_path = os.path.relpath(las_filename, input_folder)\n",
    "            output_filename = os.path.join(output_folder, relative_path)\n",
    "\n",
    "            # Create the output folder if it doesn't exist\n",
    "            os.makedirs(os.path.dirname(output_filename), exist_ok=True)\n",
    "\n",
    "            # Process the LAS file\n",
    "            normalize_las(las_filename, dtm_filename, output_filename)\n",
    "\n",
    "if __name__ == \"__main__\":\n",
    "    input_folder = r\"input\"\n",
    "    output_folder = r\"output\"\n",
    "\n",
    "    process_folders(input_folder, output_folder)\n"
   ]
  },
  {
   "cell_type": "code",
   "execution_count": null,
   "id": "38ab8818-b034-4619-a3fc-29c98e683734",
   "metadata": {},
   "outputs": [],
   "source": []
  }
 ],
 "metadata": {
  "kernelspec": {
   "display_name": "Python 3 (ipykernel)",
   "language": "python",
   "name": "python3"
  },
  "language_info": {
   "codemirror_mode": {
    "name": "ipython",
    "version": 3
   },
   "file_extension": ".py",
   "mimetype": "text/x-python",
   "name": "python",
   "nbconvert_exporter": "python",
   "pygments_lexer": "ipython3",
   "version": "3.12.0"
  }
 },
 "nbformat": 4,
 "nbformat_minor": 5
}
