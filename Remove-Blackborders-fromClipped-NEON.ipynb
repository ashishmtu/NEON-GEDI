{
 "cells": [
  {
   "cell_type": "code",
   "execution_count": 8,
   "id": "50b6ad38-f6fc-4032-8b43-e738b056b6a3",
   "metadata": {},
   "outputs": [],
   "source": [
    "import os\n",
    "import numpy as np\n",
    "import rasterio\n",
    "from rasterio.windows import Window\n"
   ]
  },
  {
   "cell_type": "code",
   "execution_count": 12,
   "id": "5c469b69-0f14-4e6d-b1a0-c642975a5a4c",
   "metadata": {},
   "outputs": [],
   "source": [
    "\n",
    "\n",
    "def remove_black_pixels(input_file, output_file):\n",
    "    with rasterio.open(input_file) as src:\n",
    "        # Read the raster data\n",
    "        raster = src.read(1)\n",
    "        \n",
    "        # Identify the rows and columns to keep\n",
    "        rows = list(set(range(raster.shape[0])) - set(np.where(~raster.any(axis=1))[0]))\n",
    "        cols = list(set(range(raster.shape[1])) - set(np.where(~raster.any(axis=0))[0]))\n",
    "        \n",
    "        # Define a window that includes only the rows and columns with data\n",
    "        window = Window(min(cols), min(rows), len(cols), len(rows))\n",
    "        \n",
    "        # Read the data in the window\n",
    "        data = src.read(window=window)\n",
    "        \n",
    "        # Define the new transform\n",
    "        transform = src.window_transform(window)\n",
    "        \n",
    "        # Write the data to a new file\n",
    "        with rasterio.open(output_file, 'w', driver='GTiff', height=data.shape[1], width=data.shape[2], count=1, dtype=data.dtype, crs=src.crs, transform=transform) as dst:\n",
    "            dst.write(data)\n",
    "\n",
    "def process_directory(input_dir, output_dir):\n",
    "    # Walk through all files in the input directory\n",
    "    for root, dirs, files in os.walk(input_dir):\n",
    "        for file in files:\n",
    "            # Only process .tif files\n",
    "            if file.endswith('.tif'):\n",
    "                # Construct the full file paths\n",
    "                input_file = os.path.join(root, file)\n",
    "                relative_path = os.path.relpath(input_file, input_dir)\n",
    "                output_file = os.path.join(output_dir, relative_path)\n",
    "                \n",
    "                # Create the output directory if it doesn't exist\n",
    "                os.makedirs(os.path.dirname(output_file), exist_ok=True)\n",
    "                \n",
    "                # Remove black pixels\n",
    "                remove_black_pixels(input_file, output_file)\n",
    "\n",
    "# Call the function\n",
    "process_directory(r\"plotType_Tower\", r\"plotType_Tower\")\n"
   ]
  },
  {
   "cell_type": "code",
   "execution_count": null,
   "id": "bc0755c1-86d0-4d0a-9de6-8719d3815901",
   "metadata": {},
   "outputs": [],
   "source": []
  }
 ],
 "metadata": {
  "kernelspec": {
   "display_name": "Python 3 (ipykernel)",
   "language": "python",
   "name": "python3"
  },
  "language_info": {
   "codemirror_mode": {
    "name": "ipython",
    "version": 3
   },
   "file_extension": ".py",
   "mimetype": "text/x-python",
   "name": "python",
   "nbconvert_exporter": "python",
   "pygments_lexer": "ipython3",
   "version": "3.12.0"
  }
 },
 "nbformat": 4,
 "nbformat_minor": 5
}
